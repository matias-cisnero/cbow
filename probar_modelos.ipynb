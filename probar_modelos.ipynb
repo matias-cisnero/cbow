{
 "cells": [
  {
   "cell_type": "markdown",
   "id": "5831502a",
   "metadata": {},
   "source": [
    "Carga de corpus"
   ]
  },
  {
   "cell_type": "code",
   "execution_count": 2,
   "id": "edbc2417",
   "metadata": {},
   "outputs": [
    {
     "name": "stdout",
     "output_type": "stream",
     "text": [
      "Tamaño de corpus: 310347\n",
      "Tamaño de vocabulario: 30283\n"
     ]
    }
   ],
   "source": [
    "from funciones_auxiliares import cargar_corpus\n",
    "\n",
    "corpus, vocab, vocab_size, word_to_idx, idx_to_word = cargar_corpus(\"corpus/corpus.txt\")"
   ]
  },
  {
   "cell_type": "markdown",
   "id": "521f91f6",
   "metadata": {},
   "source": [
    "Función para cargar los pesos"
   ]
  },
  {
   "cell_type": "code",
   "execution_count": 4,
   "id": "44dcdc1f",
   "metadata": {},
   "outputs": [
    {
     "name": "stdout",
     "output_type": "stream",
     "text": [
      "Shape de W: (30283, 50), Shape de W':(50, 30283), Tipo: <class 'numpy.ndarray'>\n",
      "\n",
      "[-0.00289988  0.02840483 -0.06461298 -0.16124849 -0.00152925  0.09793533\n",
      "  0.23287761 -0.02410344  0.04075427 -0.00985646  0.17714007 -0.14596271\n",
      "  0.00285841 -0.02456826  0.1114526   0.0330492   0.26375294 -0.00845791\n",
      " -0.0052445   0.03298394  0.23804845 -0.01867888  0.11951613 -0.00139458\n",
      "  0.14814078 -0.05875075 -0.03048758 -0.1184014   0.06461581 -0.02101253\n",
      " -0.03532683  0.14642474  0.16876413 -0.0386892   0.06784248 -0.03370435\n",
      " -0.10070255 -0.05941019 -0.01901524 -0.10963267  0.09215838 -0.03383121\n",
      " -0.13343297  0.0991322   0.01997663  0.07867944  0.03389183 -0.14124138\n",
      "  0.10946386 -0.08628517]\n"
     ]
    }
   ],
   "source": [
    "from funciones_auxiliares import cargar_modelo\n",
    "\n",
    "W1, W2, N, C, eta = cargar_modelo(\"pesos_skipgram_pcmati_numpy_epoca0.npz\")\n",
    "print(f\"Shape de W: {W1.shape}, Shape de W':{W2.shape}, Tipo: {type(W1)}\\n\")\n",
    "\n",
    "print(W1[11])"
   ]
  },
  {
   "cell_type": "markdown",
   "id": "c24d1258",
   "metadata": {},
   "source": [
    "Función para ver las palabras con mayor similitud"
   ]
  },
  {
   "cell_type": "code",
   "execution_count": 6,
   "id": "bddcbd10",
   "metadata": {},
   "outputs": [
    {
     "name": "stdout",
     "output_type": "stream",
     "text": [
      "Palabras similares a 'casa': ['la', 'en', 'las', 'cordialmente', 'panchos']\n"
     ]
    }
   ],
   "source": [
    "from funciones_auxiliares import ver_palabras_similares\n",
    "\n",
    "ver_palabras_similares(corpus, word_to_idx, idx_to_word, \"casa\", W1, 5)"
   ]
  },
  {
   "cell_type": "markdown",
   "id": "99e6afaf",
   "metadata": {},
   "source": [
    "Ver contexto de una palabra"
   ]
  },
  {
   "cell_type": "code",
   "execution_count": null,
   "id": "3239cf76",
   "metadata": {},
   "outputs": [],
   "source": [
    "palabra = \"casa\""
   ]
  }
 ],
 "metadata": {
  "kernelspec": {
   "display_name": "nlp-env",
   "language": "python",
   "name": "python3"
  },
  "language_info": {
   "codemirror_mode": {
    "name": "ipython",
    "version": 3
   },
   "file_extension": ".py",
   "mimetype": "text/x-python",
   "name": "python",
   "nbconvert_exporter": "python",
   "pygments_lexer": "ipython3",
   "version": "3.10.11"
  }
 },
 "nbformat": 4,
 "nbformat_minor": 5
}
