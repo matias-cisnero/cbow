{
 "cells": [
  {
   "cell_type": "markdown",
   "id": "521f91f6",
   "metadata": {},
   "source": [
    "Función para cargar los pesos"
   ]
  },
  {
   "cell_type": "code",
   "execution_count": null,
   "id": "44dcdc1f",
   "metadata": {},
   "outputs": [],
   "source": [
    "import numpy as np\n",
    "import os\n",
    "\n",
    "def cargar_modelo_completo(nombre_archivo=\"weights/pesos_cbow_pcmati_epoca0.npz\"):\n",
    "    try:\n",
    "        ruta = os.path.join(\"weights\", nombre_archivo)\n",
    "        data = np.load(ruta)\n",
    "        \n",
    "        W1 = data['W1']\n",
    "        W2 = data['W2']\n",
    "    \n",
    "        N = data['N'].item()\n",
    "        C = data['C'].item()\n",
    "        eta = data['eta'].item()\n",
    "        \n",
    "        print()\n",
    "\n",
    "        return W1, W2, N, C, eta\n",
    "        \n",
    "    except FileNotFoundError:\n",
    "        print(f\"Error: No se encontró el archivo '{nombre_archivo}'.\")\n",
    "        return None, None, None, None, None\n",
    "\n",
    "W1, W2, N, C, eta = cargar_modelo_completo(\"pesos_cbow_pc0_epoca50.npz\")\n",
    "print(f\"Shape de W: {W1.shape}, Shape de W':{W2.shape}, Tipo: {type(W1)}\")\n",
    "\n",
    "print(W1[:5])"
   ]
  },
  {
   "cell_type": "code",
   "execution_count": null,
   "id": "edbc2417",
   "metadata": {},
   "outputs": [],
   "source": []
  }
 ],
 "metadata": {
  "kernelspec": {
   "display_name": "nlp-env",
   "language": "python",
   "name": "python3"
  },
  "language_info": {
   "codemirror_mode": {
    "name": "ipython",
    "version": 3
   },
   "file_extension": ".py",
   "mimetype": "text/x-python",
   "name": "python",
   "nbconvert_exporter": "python",
   "pygments_lexer": "ipython3",
   "version": "3.10.11"
  }
 },
 "nbformat": 4,
 "nbformat_minor": 5
}
